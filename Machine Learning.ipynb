{
 "cells": [
  {
   "cell_type": "markdown",
   "metadata": {},
   "source": [
    "#  Medical Insurance Cost Prediction"
   ]
  },
  {
   "cell_type": "markdown",
   "metadata": {},
   "source": [
    "<img src=\"insurance.webp\" style=\"width:800px; \">"
   ]
  },
  {
   "cell_type": "markdown",
   "metadata": {
    "id": "h1-VhdIn32K2"
   },
   "source": [
    "**Student Name: M.R.M.Ashfaq** <br>\n",
    "**Registration Number: EG/2021/4417** <br>\n",
    "**-----------------------------**  \n",
    "**Student Name: M.K.M.Shamil**<br>\n",
    "**Registration Number: EG/2021/4810**\n",
    "\n",
    "\n",
    "In this project, we aim to utilize the **Medical Cost Personal Datasets** dataset from Kaggle, which contains various features that impact medical insurance costs. The primary objective is to predict medical insurance costs using machine learning models such as Linear Regression and Random Forest and compare their performance to determine the better model. The workflow includes exploratory data analysis (EDA), data preprocessing,  and training machine learning models.\n",
    "\n",
    "Data Link: https://www.kaggle.com/datasets/mirichoi0218/insurance\n"
   ]
  },
  {
   "cell_type": "markdown",
   "metadata": {},
   "source": [
    "#### Features of the Dataset\n",
    "\n",
    "There are alltogether 06 features and the target variable (charges). A description of the dataset features is provided below :\n",
    "\n",
    "* **age** : Age of the insured\n",
    "* **sex** : Gender of the insured\n",
    "* **bmi** : Body Mass Index ( Unit $kg/m^2$)\n",
    "* **children** : Number of children\n",
    "* **smoker** : Indicator if they smoke\n",
    "* **region** : Region where the insured lives\n",
    "\n",
    "\n",
    "So, in this task, we are starting with the Exploratory Data Analysis (EDA) and progress towards the data preprocessing and finally implementing machine learning models to predict medical insurance costs."
   ]
  },
  {
   "cell_type": "markdown",
   "metadata": {
    "id": "V0Li3CtY-6CZ"
   },
   "source": [
    "## Load the Necessary Libraries"
   ]
  },
  {
   "cell_type": "code",
   "execution_count": 490,
   "metadata": {
    "id": "0Q2JA6R71b9A"
   },
   "outputs": [],
   "source": [
    "import numpy as np\n",
    "import pandas as pd\n",
    "import matplotlib.pyplot as plt\n",
    "import seaborn as sns\n",
    "from sklearn.model_selection import train_test_split\n",
    "from sklearn.linear_model import LinearRegression\n",
    "from sklearn import metrics \n",
    "from sklearn.metrics import mean_squared_error"
   ]
  },
  {
   "cell_type": "markdown",
   "metadata": {
    "id": "izE6k0DPYxSi"
   },
   "source": [
    "## Data Loading"
   ]
  },
  {
   "cell_type": "code",
   "execution_count": 491,
   "metadata": {},
   "outputs": [],
   "source": [
    "# loading the data from csv file to a Pandas DataFrame\n",
    "insurance_dataset = pd.read_csv('./insurance.csv')"
   ]
  },
  {
   "cell_type": "code",
   "execution_count": 492,
   "metadata": {},
   "outputs": [
    {
     "data": {
      "text/html": [
       "<div>\n",
       "<style scoped>\n",
       "    .dataframe tbody tr th:only-of-type {\n",
       "        vertical-align: middle;\n",
       "    }\n",
       "\n",
       "    .dataframe tbody tr th {\n",
       "        vertical-align: top;\n",
       "    }\n",
       "\n",
       "    .dataframe thead th {\n",
       "        text-align: right;\n",
       "    }\n",
       "</style>\n",
       "<table border=\"1\" class=\"dataframe\">\n",
       "  <thead>\n",
       "    <tr style=\"text-align: right;\">\n",
       "      <th></th>\n",
       "      <th>age</th>\n",
       "      <th>sex</th>\n",
       "      <th>bmi</th>\n",
       "      <th>children</th>\n",
       "      <th>smoker</th>\n",
       "      <th>region</th>\n",
       "      <th>charges</th>\n",
       "    </tr>\n",
       "  </thead>\n",
       "  <tbody>\n",
       "    <tr>\n",
       "      <th>0</th>\n",
       "      <td>19</td>\n",
       "      <td>female</td>\n",
       "      <td>27.900</td>\n",
       "      <td>0</td>\n",
       "      <td>yes</td>\n",
       "      <td>southwest</td>\n",
       "      <td>16884.92400</td>\n",
       "    </tr>\n",
       "    <tr>\n",
       "      <th>1</th>\n",
       "      <td>18</td>\n",
       "      <td>male</td>\n",
       "      <td>33.770</td>\n",
       "      <td>1</td>\n",
       "      <td>no</td>\n",
       "      <td>southeast</td>\n",
       "      <td>1725.55230</td>\n",
       "    </tr>\n",
       "    <tr>\n",
       "      <th>2</th>\n",
       "      <td>28</td>\n",
       "      <td>male</td>\n",
       "      <td>33.000</td>\n",
       "      <td>3</td>\n",
       "      <td>no</td>\n",
       "      <td>southeast</td>\n",
       "      <td>4449.46200</td>\n",
       "    </tr>\n",
       "    <tr>\n",
       "      <th>3</th>\n",
       "      <td>33</td>\n",
       "      <td>male</td>\n",
       "      <td>22.705</td>\n",
       "      <td>0</td>\n",
       "      <td>no</td>\n",
       "      <td>northwest</td>\n",
       "      <td>21984.47061</td>\n",
       "    </tr>\n",
       "    <tr>\n",
       "      <th>4</th>\n",
       "      <td>32</td>\n",
       "      <td>male</td>\n",
       "      <td>28.880</td>\n",
       "      <td>0</td>\n",
       "      <td>no</td>\n",
       "      <td>northwest</td>\n",
       "      <td>3866.85520</td>\n",
       "    </tr>\n",
       "  </tbody>\n",
       "</table>\n",
       "</div>"
      ],
      "text/plain": [
       "   age     sex     bmi  children smoker     region      charges\n",
       "0   19  female  27.900         0    yes  southwest  16884.92400\n",
       "1   18    male  33.770         1     no  southeast   1725.55230\n",
       "2   28    male  33.000         3     no  southeast   4449.46200\n",
       "3   33    male  22.705         0     no  northwest  21984.47061\n",
       "4   32    male  28.880         0     no  northwest   3866.85520"
      ]
     },
     "execution_count": 492,
     "metadata": {},
     "output_type": "execute_result"
    }
   ],
   "source": [
    "# First 5 rows of the dataframe\n",
    "insurance_dataset.head()"
   ]
  },
  {
   "cell_type": "markdown",
   "metadata": {
    "id": "GhGFqyj5Ni2Q"
   },
   "source": [
    "## Exploratory Data Analysis (EDA)"
   ]
  },
  {
   "cell_type": "markdown",
   "metadata": {},
   "source": [
    "##### Count of Rows and Column"
   ]
  },
  {
   "cell_type": "code",
   "execution_count": 493,
   "metadata": {},
   "outputs": [
    {
     "data": {
      "text/plain": [
       "(1338, 7)"
      ]
     },
     "execution_count": 493,
     "metadata": {},
     "output_type": "execute_result"
    }
   ],
   "source": [
    "# number of rows and columns\n",
    "insurance_dataset.shape"
   ]
  },
  {
   "cell_type": "markdown",
   "metadata": {},
   "source": [
    "##### Info about datasets"
   ]
  },
  {
   "cell_type": "code",
   "execution_count": 494,
   "metadata": {},
   "outputs": [
    {
     "name": "stdout",
     "output_type": "stream",
     "text": [
      "Insurance Dataset Info:\n",
      "<class 'pandas.core.frame.DataFrame'>\n",
      "RangeIndex: 1338 entries, 0 to 1337\n",
      "Data columns (total 7 columns):\n",
      " #   Column    Non-Null Count  Dtype  \n",
      "---  ------    --------------  -----  \n",
      " 0   age       1338 non-null   int64  \n",
      " 1   sex       1338 non-null   object \n",
      " 2   bmi       1338 non-null   float64\n",
      " 3   children  1338 non-null   int64  \n",
      " 4   smoker    1338 non-null   object \n",
      " 5   region    1338 non-null   object \n",
      " 6   charges   1338 non-null   float64\n",
      "dtypes: float64(2), int64(2), object(3)\n",
      "memory usage: 73.3+ KB\n"
     ]
    }
   ],
   "source": [
    "# Concise summary using info()\n",
    "print(\"Insurance Dataset Info:\")\n",
    "insurance_dataset.info()"
   ]
  },
  {
   "cell_type": "markdown",
   "metadata": {},
   "source": [
    "##### Features Types"
   ]
  },
  {
   "cell_type": "code",
   "execution_count": 495,
   "metadata": {},
   "outputs": [
    {
     "name": "stdout",
     "output_type": "stream",
     "text": [
      "Numerical Features: ['age', 'bmi', 'children', 'charges']\n",
      "Categorical Features: ['sex', 'smoker', 'region']\n"
     ]
    }
   ],
   "source": [
    "# Identify numerical features\n",
    "numerical_features = insurance_dataset.select_dtypes(include=['int64', 'float64']).columns.tolist()\n",
    "\n",
    "# Identify categorical features\n",
    "categorical_features = insurance_dataset.select_dtypes(include=['object']).columns.tolist()\n",
    "\n",
    "# Print the results\n",
    "print(\"Numerical Features:\", numerical_features)\n",
    "print(\"Categorical Features:\", categorical_features)\n"
   ]
  },
  {
   "cell_type": "markdown",
   "metadata": {},
   "source": [
    "##### Numerical feature description"
   ]
  },
  {
   "cell_type": "code",
   "execution_count": 496,
   "metadata": {},
   "outputs": [
    {
     "name": "stdout",
     "output_type": "stream",
     "text": [
      "Descriptive Analytics for Numerical Features:\n",
      "               age          bmi     children       charges\n",
      "count  1338.000000  1338.000000  1338.000000   1338.000000\n",
      "mean     39.207025    30.663397     1.094918  13270.422265\n",
      "std      14.049960     6.098187     1.205493  12110.011237\n",
      "min      18.000000    15.960000     0.000000   1121.873900\n",
      "25%      27.000000    26.296250     0.000000   4740.287150\n",
      "50%      39.000000    30.400000     1.000000   9382.033000\n",
      "75%      51.000000    34.693750     2.000000  16639.912515\n",
      "max      64.000000    53.130000     5.000000  63770.428010\n"
     ]
    }
   ],
   "source": [
    "# Generate descriptive analytics for numerical features\n",
    "numerical_summary = insurance_dataset[numerical_features].describe()\n",
    "\n",
    "# Print the descriptive statistics\n",
    "print(\"Descriptive Analytics for Numerical Features:\")\n",
    "print(numerical_summary)\n"
   ]
  },
  {
   "cell_type": "markdown",
   "metadata": {},
   "source": [
    "##### Categorical feature description"
   ]
  },
  {
   "cell_type": "code",
   "execution_count": 497,
   "metadata": {},
   "outputs": [
    {
     "data": {
      "text/plain": [
       "male      676\n",
       "female    662\n",
       "Name: sex, dtype: int64"
      ]
     },
     "execution_count": 497,
     "metadata": {},
     "output_type": "execute_result"
    }
   ],
   "source": [
    "#count of sex attributes\n",
    "insurance_dataset['sex'].value_counts()\n"
   ]
  },
  {
   "cell_type": "code",
   "execution_count": 498,
   "metadata": {},
   "outputs": [
    {
     "data": {
      "text/plain": [
       "no     1064\n",
       "yes     274\n",
       "Name: smoker, dtype: int64"
      ]
     },
     "execution_count": 498,
     "metadata": {},
     "output_type": "execute_result"
    }
   ],
   "source": [
    "#count og smoker attributesi\n",
    "insurance_dataset['smoker'].value_counts()\n"
   ]
  },
  {
   "cell_type": "code",
   "execution_count": 499,
   "metadata": {},
   "outputs": [
    {
     "data": {
      "text/plain": [
       "southeast    364\n",
       "southwest    325\n",
       "northwest    325\n",
       "northeast    324\n",
       "Name: region, dtype: int64"
      ]
     },
     "execution_count": 499,
     "metadata": {},
     "output_type": "execute_result"
    }
   ],
   "source": [
    "#count og region attributes\n",
    "insurance_dataset['region'].value_counts()"
   ]
  },
  {
   "cell_type": "markdown",
   "metadata": {},
   "source": [
    "##### Checking null values\n"
   ]
  },
  {
   "cell_type": "code",
   "execution_count": 500,
   "metadata": {},
   "outputs": [
    {
     "data": {
      "text/plain": [
       "age         0\n",
       "sex         0\n",
       "bmi         0\n",
       "children    0\n",
       "smoker      0\n",
       "region      0\n",
       "charges     0\n",
       "dtype: int64"
      ]
     },
     "execution_count": 500,
     "metadata": {},
     "output_type": "execute_result"
    }
   ],
   "source": [
    "# Checking for missing values\n",
    "insurance_dataset.isnull().sum()"
   ]
  },
  {
   "cell_type": "markdown",
   "metadata": {},
   "source": [
    "##### Checking duplicates\n"
   ]
  },
  {
   "cell_type": "code",
   "execution_count": 501,
   "metadata": {},
   "outputs": [
    {
     "data": {
      "text/plain": [
       "1"
      ]
     },
     "execution_count": 501,
     "metadata": {},
     "output_type": "execute_result"
    }
   ],
   "source": [
    "# Checking for duplicated values\n",
    "insurance_dataset.duplicated().sum()"
   ]
  },
  {
   "cell_type": "markdown",
   "metadata": {},
   "source": [
    "## Data Visualization\n",
    "\n"
   ]
  },
  {
   "cell_type": "markdown",
   "metadata": {},
   "source": [
    "#### Outliers\n"
   ]
  },
  {
   "cell_type": "markdown",
   "metadata": {},
   "source": [
    "For age attributes\n"
   ]
  },
  {
   "cell_type": "code",
   "execution_count": 502,
   "metadata": {},
   "outputs": [
    {
     "data": {
      "image/png": "[encoded data removed]",
      "text/plain": [
       "<Figure size 1200x600 with 1 Axes>"
      ]
     },
     "metadata": {},
     "output_type": "display_data"
    }
   ],
   "source": [
    "sns.set()\n",
    "\n",
    "plt.figure(figsize=(12, 6))\n",
    "sns.boxplot(x=insurance_dataset['age'])  \n",
    "plt.title('Age Distribution with Outliers')\n",
    "\n",
    "plt.show()"
   ]
  },
  {
   "cell_type": "markdown",
   "metadata": {},
   "source": [
    "For bmi attributes\n"
   ]
  },
  {
   "cell_type": "code",
   "execution_count": 503,
   "metadata": {},
   "outputs": [
    {
     "data": {
      "image/png": "[encoded data removed]",
      "text/plain": [
       "<Figure size 1200x600 with 1 Axes>"
      ]
     },
     "metadata": {},
     "output_type": "display_data"
    }
   ],
   "source": [
    "sns.set()\n",
    "\n",
    "plt.figure(figsize=(12, 6))\n",
    "sns.boxplot(x=insurance_dataset['bmi'])  \n",
    "plt.title('BMI Distribution with Outliers')\n",
    "\n",
    "plt.show()"
   ]
  },
  {
   "cell_type": "markdown",
   "metadata": {},
   "source": [
    "For children attributes\n"
   ]
  },
  {
   "cell_type": "code",
   "execution_count": 504,
   "metadata": {},
   "outputs": [
    {
     "data": {
      "image/png": "[encoded data removed]",
      "text/plain": [
       "<Figure size 1200x600 with 1 Axes>"
      ]
     },
     "metadata": {},
     "output_type": "display_data"
    }
   ],
   "source": [
    "sns.set()\n",
    "\n",
    "plt.figure(figsize=(12, 6))\n",
    "sns.boxplot(x=insurance_dataset['children'])\n",
    "plt.title('children Distribution with Outliers')\n",
    "\n",
    "plt.show()"
   ]
  },
  {
   "cell_type": "markdown",
   "metadata": {},
   "source": [
    "##### Numerical Features Graphs\n"
   ]
  },
  {
   "cell_type": "markdown",
   "metadata": {},
   "source": [
    "Age Distribution"
   ]
  },
  {
   "cell_type": "code",
   "execution_count": 505,
   "metadata": {},
   "outputs": [
    {
     "name": "stderr",
     "output_type": "stream",
     "text": [
      "C:\\Users\\A S H F A K\\AppData\\Local\\Temp\\ipykernel_1304\\2905501335.py:4: UserWarning: \n",
      "\n",
      "`distplot` is a deprecated function and will be removed in seaborn v0.14.0.\n",
      "\n",
      "Please adapt your code to use either `displot` (a figure-level function with\n",
      "similar flexibility) or `histplot` (an axes-level function for histograms).\n",
      "\n",
      "For a guide to updating your code to use the new functions, please see\n",
      "https://gist.github.com/mwaskom/de44147ed2974457ad6372750bbe5751\n",
      "\n",
      "  sns.distplot(insurance_dataset['age'],)\n"
     ]
    },
    {
     "data": {
      "image/png": "[encoded data removed]",
      "text/plain": [
       "<Figure size 600x600 with 1 Axes>"
      ]
     },
     "metadata": {},
     "output_type": "display_data"
    }
   ],
   "source": [
    "# Distribution of age values\n",
    "sns.set()\n",
    "plt.figure(figsize=(6,6))\n",
    "sns.distplot(insurance_dataset['age'],)\n",
    "plt.title('Age Distribution')\n",
    "plt.show()"
   ]
  },
  {
   "cell_type": "markdown",
   "metadata": {},
   "source": [
    "BMI Distribution"
   ]
  },
  {
   "cell_type": "code",
   "execution_count": 506,
   "metadata": {},
   "outputs": [
    {
     "name": "stderr",
     "output_type": "stream",
     "text": [
      "C:\\Users\\A S H F A K\\AppData\\Local\\Temp\\ipykernel_1304\\4119035241.py:4: UserWarning: \n",
      "\n",
      "`distplot` is a deprecated function and will be removed in seaborn v0.14.0.\n",
      "\n",
      "Please adapt your code to use either `displot` (a figure-level function with\n",
      "similar flexibility) or `histplot` (an axes-level function for histograms).\n",
      "\n",
      "For a guide to updating your code to use the new functions, please see\n",
      "https://gist.github.com/mwaskom/de44147ed2974457ad6372750bbe5751\n",
      "\n",
      "  sns.distplot(insurance_dataset['bmi'])\n"
     ]
    },
    {
     "data": {
      "image/png": "[encoded data removed]",
      "text/plain": [
       "<Figure size 600x600 with 1 Axes>"
      ]
     },
     "metadata": {},
     "output_type": "display_data"
    }
   ],
   "source": [
    "#bmi Distribution\n",
    "plt.figure(figsize=(6,6))\n",
    "sns.set_palette(\"viridis\")\n",
    "sns.distplot(insurance_dataset['bmi'])\n",
    "plt.title('BMI Distribution')\n",
    "plt.show()"
   ]
  },
  {
   "cell_type": "markdown",
   "metadata": {},
   "source": [
    "Children Distribution"
   ]
  },
  {
   "cell_type": "code",
   "execution_count": 507,
   "metadata": {},
   "outputs": [
    {
     "data": {
      "text/plain": [
       "<Figure size 1200x600 with 0 Axes>"
      ]
     },
     "metadata": {},
     "output_type": "display_data"
    },
    {
     "data": {
      "image/png": "[encoded data removed]",
      "text/plain": [
       "<Figure size 500x500 with 1 Axes>"
      ]
     },
     "metadata": {},
     "output_type": "display_data"
    }
   ],
   "source": [
    "plt.figure(figsize=(12,6))\n",
    "sns.displot(data=insurance_dataset, x='children',kde=True)\n",
    "plt.title('Number of Children Distribution')\n",
    "plt.show()"
   ]
  },
  {
   "cell_type": "markdown",
   "metadata": {},
   "source": [
    "##### Categorical Features Graphs\n"
   ]
  },
  {
   "cell_type": "markdown",
   "metadata": {},
   "source": [
    "Sex Distribution"
   ]
  },
  {
   "cell_type": "code",
   "execution_count": 508,
   "metadata": {},
   "outputs": [
    {
     "data": {
      "image/png": "[encoded data removed]",
      "text/plain": [
       "<Figure size 600x600 with 1 Axes>"
      ]
     },
     "metadata": {},
     "output_type": "display_data"
    }
   ],
   "source": [
    "# Gender column\n",
    "plt.figure(figsize=(6,6))\n",
    "sns.countplot(x='sex',data = insurance_dataset,palette='mako')\n",
    "plt.title('Sex Distribution')\n",
    "plt.show()"
   ]
  },
  {
   "cell_type": "markdown",
   "metadata": {},
   "source": [
    "Smoker Distribution"
   ]
  },
  {
   "cell_type": "code",
   "execution_count": 509,
   "metadata": {},
   "outputs": [
    {
     "data": {
      "image/png": "[encoded data removed]",
      "text/plain": [
       "<Figure size 600x600 with 1 Axes>"
      ]
     },
     "metadata": {},
     "output_type": "display_data"
    }
   ],
   "source": [
    "# Smoker column\n",
    "plt.figure(figsize=(6,6))\n",
    "sns.countplot(x='smoker',data=insurance_dataset)\n",
    "plt.title('Smokers')\n",
    "plt.show()"
   ]
  },
  {
   "cell_type": "markdown",
   "metadata": {},
   "source": [
    "Region Distribution"
   ]
  },
  {
   "cell_type": "code",
   "execution_count": 510,
   "metadata": {},
   "outputs": [
    {
     "data": {
      "image/png": "[encoded data removed]",
      "text/plain": [
       "<Figure size 600x600 with 1 Axes>"
      ]
     },
     "metadata": {},
     "output_type": "display_data"
    }
   ],
   "source": [
    "# Region column\n",
    "plt.figure(figsize=(6,6))\n",
    "sns.countplot(x='region',data=insurance_dataset)\n",
    "plt.title('Region')\n",
    "plt.show()"
   ]
  },
  {
   "cell_type": "markdown",
   "metadata": {},
   "source": [
    "### Correlation Matrix ( Numerical attributes )"
   ]
  },
  {
   "cell_type": "code",
   "execution_count": 511,
   "metadata": {},
   "outputs": [
    {
     "data": {
      "image/png": "[encoded data removed]",
      "text/plain": [
       "<Figure size 600x600 with 2 Axes>"
      ]
     },
     "metadata": {},
     "output_type": "display_data"
    }
   ],
   "source": [
    "# Extract numerical columns\n",
    "numerical_columns = ['age', 'bmi', 'children', 'charges'] \n",
    "\n",
    "# Calculate the correlation matrix\n",
    "correlation_matrix = insurance_dataset[numerical_columns].corr()\n",
    "\n",
    "# Create a heatmap\n",
    "plt.figure(figsize=(6,6))\n",
    "sns.heatmap(correlation_matrix, annot=True, cmap='Reds', fmt=\".2f\")\n",
    "plt.title(\"Correlation Heatmap\")\n",
    "plt.show()"
   ]
  },
  {
   "cell_type": "markdown",
   "metadata": {},
   "source": [
    "### Chi square matrix ( Categorical attributes )"
   ]
  },
  {
   "cell_type": "code",
   "execution_count": 512,
   "metadata": {},
   "outputs": [
    {
     "data": {
      "image/png": "[encoded data removed]",
      "text/plain": [
       "<Figure size 600x600 with 2 Axes>"
      ]
     },
     "metadata": {},
     "output_type": "display_data"
    }
   ],
   "source": [
    "from scipy.stats import chi2_contingency\n",
    "\n",
    "# Extract only the categorical columns\n",
    "categorical_columns = insurance_dataset.select_dtypes(include=['object']).columns\n",
    "\n",
    "# Initialize an empty DataFrame to store the results\n",
    "chi_square_matrix = pd.DataFrame(index=categorical_columns, columns=categorical_columns)\n",
    "\n",
    "# Loop through each pair of categorical columns\n",
    "for col1 in categorical_columns:\n",
    "    for col2 in categorical_columns:\n",
    "        if col1 == col2:\n",
    "            chi_square_matrix.loc[col1, col2] = 1.0  # Perfect relationship with itself\n",
    "        else:\n",
    "            # Create a contingency table\n",
    "            contingency_table = pd.crosstab(insurance_dataset[col1], insurance_dataset[col2])\n",
    "            \n",
    "            # Perform Chi-Square test\n",
    "            chi2, p, _, _ = chi2_contingency(contingency_table)\n",
    "            \n",
    "            # Store the p-value (or chi2 if preferred) in the matrix\n",
    "            chi_square_matrix.loc[col1, col2] = p\n",
    "\n",
    "# Convert to numeric type for heatmap visualization\n",
    "chi_square_matrix = chi_square_matrix.astype(float)\n",
    "\n",
    "# Plot the heatmap\n",
    "plt.figure(figsize=(6,6))\n",
    "sns.heatmap(chi_square_matrix, annot=True, cmap='Greens', fmt=\".2f\")\n",
    "plt.title('Chi-Square Test Matrix')\n",
    "plt.show()"
   ]
  },
  {
   "cell_type": "markdown",
   "metadata": {},
   "source": [
    "for scipy chi square matrix p value less than significant level (0.05) is considered as high correlation among the attributes "
   ]
  },
  {
   "cell_type": "markdown",
   "metadata": {
    "id": "dUjdfacxRoBV"
   },
   "source": [
    "### Data Visualization\n",
    "\n"
   ]
  },
  {
   "cell_type": "markdown",
   "metadata": {
    "id": "djFeVAL3SWL7"
   },
   "source": [
    "In the following section we are going to do some visualization in the dataset.\n",
    "\n",
    "**Q:**In this case we are going to split the dataset into train and test sets and utilize only the train set for the visualizations. What should be the reason?<br>\n",
    "> **A:**"
   ]
  },
  {
   "cell_type": "code",
   "execution_count": null,
   "metadata": {},
   "outputs": [],
   "source": []
  },
  {
   "cell_type": "code",
   "execution_count": 513,
   "metadata": {
    "id": "PDOiNKajQwpE"
   },
   "outputs": [],
   "source": [
    "# Split the dataset into train and test sets\n",
    "# Make sure to separate independent and dependent variables as well\n",
    "\n",
    "# Your code goes here"
   ]
  },
  {
   "cell_type": "code",
   "execution_count": 514,
   "metadata": {
    "id": "LzkY2shVXlS0"
   },
   "outputs": [],
   "source": [
    "# Print number of training data points\n",
    "\n",
    "# Your code goes here"
   ]
  },
  {
   "cell_type": "code",
   "execution_count": 515,
   "metadata": {
    "id": "uqfoZhtxYdf8"
   },
   "outputs": [],
   "source": [
    "# Print number of testing data points\n",
    "\n",
    "# Your code goes here"
   ]
  },
  {
   "cell_type": "code",
   "execution_count": 516,
   "metadata": {
    "id": "AeLGUVe5Yrvr"
   },
   "outputs": [],
   "source": [
    "# Print the counts of status (the target variable) using seaborn countplot\n",
    "# Hint: https://seaborn.pydata.org/generated/seaborn.countplot.html\n",
    "\n",
    "# Your code goes here"
   ]
  },
  {
   "cell_type": "markdown",
   "metadata": {
    "id": "xfSFab0TbDBt"
   },
   "source": [
    "**Q:** Can you recognize that the dataset is imbalnaced? Mention three problems of imbalnced dataset may cause during the machine learning model traning. <br>\n",
    "> **A:** <br>\n",
    "1. <br>\n",
    "2. <br>\n",
    "3. <br>\n",
    "\n"
   ]
  },
  {
   "cell_type": "code",
   "execution_count": 517,
   "metadata": {
    "id": "BQGWgdozbAur"
   },
   "outputs": [],
   "source": [
    "# Plot the recruiment status of the population based on Gender\n",
    "# Hint: Set the hue parameter accordingly\n",
    "\n",
    "# Your code goes here"
   ]
  },
  {
   "cell_type": "markdown",
   "metadata": {
    "id": "KN_9CT4sd2KY"
   },
   "source": [
    "**Q:** Explain the observation from the above table.\n",
    "> **A:**"
   ]
  },
  {
   "cell_type": "code",
   "execution_count": 518,
   "metadata": {
    "id": "VOTH5Qr6f_Ym"
   },
   "outputs": [],
   "source": [
    "# Plot the recruiment status of the population based on the post gradute specialisation\n",
    "\n",
    "# Your code goes here"
   ]
  },
  {
   "cell_type": "markdown",
   "metadata": {
    "id": "kGuqEringH8Z"
   },
   "source": [
    "**Q:** Inteprete the above results.\n",
    "> **A:**"
   ]
  },
  {
   "cell_type": "code",
   "execution_count": 519,
   "metadata": {
    "id": "j4kt1renj-Fi"
   },
   "outputs": [],
   "source": [
    "# Plot the distribution of degree percentage, employbility test percentage and, MBA percentage on three histograms in the same figure\n",
    "# Hint: Use subplots (Add the subplots into one column of the figure)\n",
    "# Hint: https://seaborn.pydata.org/generated/seaborn.histplot.html\n",
    "\n",
    "# Your code goes here\n",
    "\n",
    "# Add seperate column to the subplots and plot same figures based on the placement state\n",
    "# Make sure to plot the all six plots in the same figure.\n",
    "\n",
    "# Your code goes here"
   ]
  },
  {
   "cell_type": "markdown",
   "metadata": {
    "id": "xTxht-JdylLX"
   },
   "source": [
    "**Q:** Summarize the visualizations in the above six plots.<br>\n",
    "> **A:**"
   ]
  },
  {
   "cell_type": "code",
   "execution_count": 520,
   "metadata": {
    "id": "1P0eNeo7wWR4"
   },
   "outputs": [],
   "source": [
    "# Check for the null values in train set\n",
    "\n",
    "# Your code goes here"
   ]
  },
  {
   "cell_type": "code",
   "execution_count": 521,
   "metadata": {
    "id": "CkmHt4VtANWB"
   },
   "outputs": [],
   "source": [
    "# Check for the null values in test set\n",
    "\n",
    "# Your code goes here"
   ]
  },
  {
   "cell_type": "code",
   "execution_count": 522,
   "metadata": {
    "id": "8u6QEWVQAWB-"
   },
   "outputs": [],
   "source": [
    "# Display the missing values in the train set using matrix plot\n",
    "# Hint: https://towardsdatascience.com/using-the-missingno-python-library-to-identify-and-visualise-missing-data-prior-to-machine-learning-34c8c5b5f009\n",
    "\n",
    "# Your code goes here"
   ]
  },
  {
   "cell_type": "markdown",
   "metadata": {
    "id": "vW0Vw-epDnkP"
   },
   "source": [
    "## Data Preprocessing"
   ]
  },
  {
   "cell_type": "markdown",
   "metadata": {
    "id": "HpSRP_r6Dqij"
   },
   "source": [
    "### Handle the Missing Data"
   ]
  },
  {
   "cell_type": "code",
   "execution_count": 523,
   "metadata": {},
   "outputs": [
    {
     "data": {
      "text/plain": [
       "age         0\n",
       "sex         0\n",
       "bmi         0\n",
       "children    0\n",
       "smoker      0\n",
       "region      0\n",
       "charges     0\n",
       "dtype: int64"
      ]
     },
     "execution_count": 523,
     "metadata": {},
     "output_type": "execute_result"
    }
   ],
   "source": [
    "# Checking for missing values\n",
    "insurance_dataset.isnull().sum()"
   ]
  },
  {
   "cell_type": "markdown",
   "metadata": {},
   "source": [
    "So there is no null value "
   ]
  },
  {
   "cell_type": "markdown",
   "metadata": {},
   "source": [
    "### Treating  Duplicate Records"
   ]
  },
  {
   "cell_type": "markdown",
   "metadata": {},
   "source": [
    "Count of Duplicates"
   ]
  },
  {
   "cell_type": "code",
   "execution_count": 524,
   "metadata": {},
   "outputs": [
    {
     "data": {
      "text/plain": [
       "1"
      ]
     },
     "execution_count": 524,
     "metadata": {},
     "output_type": "execute_result"
    }
   ],
   "source": [
    "# Number of duplicates\n",
    "insurance_dataset.duplicated().sum()"
   ]
  },
  {
   "cell_type": "markdown",
   "metadata": {},
   "source": [
    "Remove Duplicates"
   ]
  },
  {
   "cell_type": "code",
   "execution_count": 525,
   "metadata": {},
   "outputs": [],
   "source": [
    "# Delete this duplicate\n",
    "insurance_dataset.drop_duplicates(inplace=True)"
   ]
  },
  {
   "cell_type": "markdown",
   "metadata": {},
   "source": [
    "Count of Duplicates"
   ]
  },
  {
   "cell_type": "code",
   "execution_count": 526,
   "metadata": {},
   "outputs": [
    {
     "data": {
      "text/plain": [
       "0"
      ]
     },
     "execution_count": 526,
     "metadata": {},
     "output_type": "execute_result"
    }
   ],
   "source": [
    "# Number of duplicates after removing\n",
    "insurance_dataset.duplicated().sum()"
   ]
  },
  {
   "cell_type": "markdown",
   "metadata": {},
   "source": [
    "### Treating  Oulier"
   ]
  },
  {
   "cell_type": "markdown",
   "metadata": {},
   "source": [
    "##### Only **BMI attributes** has outlier according to above box whisker plot \n"
   ]
  },
  {
   "cell_type": "markdown",
   "metadata": {},
   "source": [
    "Getting Outliers Values"
   ]
  },
  {
   "cell_type": "code",
   "execution_count": 527,
   "metadata": {},
   "outputs": [],
   "source": [
    "# Calculate Q1 (25th percentile) and Q3 (75th percentile)\n",
    "Q1 = insurance_dataset['bmi'].quantile(0.25)\n",
    "Q3 = insurance_dataset['bmi'].quantile(0.75)\n",
    "\n",
    "# Calculate the IQR\n",
    "IQR = Q3 - Q1\n",
    "\n",
    "# Define outlier boundaries\n",
    "lower_bound = Q1 - 1.5 * IQR\n",
    "upper_bound = Q3 + 1.5 * IQR"
   ]
  },
  {
   "cell_type": "markdown",
   "metadata": {},
   "source": [
    "Upper Limit of box whisker plot"
   ]
  },
  {
   "cell_type": "code",
   "execution_count": 528,
   "metadata": {},
   "outputs": [
    {
     "name": "stdout",
     "output_type": "stream",
     "text": [
      "47.31500000000001\n"
     ]
    }
   ],
   "source": [
    "# Print upper biundary\n",
    "print(upper_bound)"
   ]
  },
  {
   "cell_type": "markdown",
   "metadata": {},
   "source": [
    "Lower Limit of box whisker plot"
   ]
  },
  {
   "cell_type": "code",
   "execution_count": 529,
   "metadata": {},
   "outputs": [
    {
     "name": "stdout",
     "output_type": "stream",
     "text": [
      "13.674999999999994\n"
     ]
    }
   ],
   "source": [
    "# Print lower biundary\n",
    "print(lower_bound)"
   ]
  },
  {
   "cell_type": "markdown",
   "metadata": {},
   "source": [
    "Outlier Details"
   ]
  },
  {
   "cell_type": "code",
   "execution_count": 530,
   "metadata": {},
   "outputs": [
    {
     "name": "stdout",
     "output_type": "stream",
     "text": [
      "        bmi\n",
      "116   49.06\n",
      "286   48.07\n",
      "401   47.52\n",
      "543   47.41\n",
      "847   50.38\n",
      "860   47.60\n",
      "1047  52.58\n",
      "1088  47.74\n",
      "1317  53.13\n"
     ]
    }
   ],
   "source": [
    "# Identify outliers\n",
    "outliers = insurance_dataset[(insurance_dataset['bmi'] < lower_bound) | (insurance_dataset['bmi'] > upper_bound)]\n",
    "\n",
    "print(outliers[['bmi']])\n"
   ]
  },
  {
   "cell_type": "code",
   "execution_count": 531,
   "metadata": {},
   "outputs": [
    {
     "name": "stdout",
     "output_type": "stream",
     "text": [
      "Number of BMI outliers using IQR method: 9\n"
     ]
    }
   ],
   "source": [
    "print(\"Number of BMI outliers using IQR method:\", outliers.shape[0])"
   ]
  },
  {
   "cell_type": "markdown",
   "metadata": {},
   "source": [
    "Remove Outliers"
   ]
  },
  {
   "cell_type": "code",
   "execution_count": 532,
   "metadata": {},
   "outputs": [],
   "source": [
    "insurance_dataset = insurance_dataset[(insurance_dataset['bmi'] >= lower_bound) & (insurance_dataset['bmi'] <= upper_bound)]"
   ]
  },
  {
   "cell_type": "markdown",
   "metadata": {},
   "source": [
    "After Removing Outliers"
   ]
  },
  {
   "cell_type": "code",
   "execution_count": 533,
   "metadata": {},
   "outputs": [
    {
     "name": "stdout",
     "output_type": "stream",
     "text": [
      "Number of BMI outliers using IQR method: 0\n"
     ]
    }
   ],
   "source": [
    "outliers_count = insurance_dataset[(insurance_dataset['bmi'] < lower_bound) | (insurance_dataset['bmi'] > upper_bound)].shape[0]\n",
    "\n",
    "print(\"Number of BMI outliers using IQR method:\", outliers_count)"
   ]
  },
  {
   "cell_type": "code",
   "execution_count": 534,
   "metadata": {},
   "outputs": [
    {
     "data": {
      "image/png": "[encoded data removed]",
      "text/plain": [
       "<Figure size 500x300 with 1 Axes>"
      ]
     },
     "metadata": {},
     "output_type": "display_data"
    }
   ],
   "source": [
    "sns.set()\n",
    "\n",
    "plt.figure(figsize=(5, 3))\n",
    "sns.boxplot(x=insurance_dataset['bmi'])  \n",
    "plt.title('BMI Distribution with Outliers')\n",
    "\n",
    "plt.show()"
   ]
  },
  {
   "cell_type": "markdown",
   "metadata": {},
   "source": [
    "### Feature selection"
   ]
  },
  {
   "cell_type": "markdown",
   "metadata": {},
   "source": [
    "#### For Numerical Attributes ( Correlation Matrix )"
   ]
  },
  {
   "cell_type": "code",
   "execution_count": 535,
   "metadata": {},
   "outputs": [
    {
     "data": {
      "image/png": "[encoded data removed]",
      "text/plain": [
       "<Figure size 600x600 with 2 Axes>"
      ]
     },
     "metadata": {},
     "output_type": "display_data"
    }
   ],
   "source": [
    "# Extract numerical columns\n",
    "numerical_columns = ['age', 'bmi', 'children', 'charges'] \n",
    "\n",
    "# Calculate the correlation matrix\n",
    "correlation_matrix = insurance_dataset[numerical_columns].corr()\n",
    "\n",
    "# Create a heatmap\n",
    "plt.figure(figsize=(6,6))\n",
    "sns.heatmap(correlation_matrix, annot=True, cmap='Reds', fmt=\".2f\")\n",
    "plt.title(\"Correlation Heatmap\")\n",
    "plt.show()"
   ]
  },
  {
   "cell_type": "markdown",
   "metadata": {},
   "source": [
    "In the correlation matrix, the **children attribute** has very low correlation with the charges (target variable), so we can consider removing this feature from the dataset. Since there are no very strong correlations among the features themselves, no further feature removals. ((children attribute has a non normal distribution))"
   ]
  },
  {
   "cell_type": "markdown",
   "metadata": {},
   "source": [
    "##### Remove children attributes"
   ]
  },
  {
   "cell_type": "code",
   "execution_count": 536,
   "metadata": {},
   "outputs": [
    {
     "name": "stdout",
     "output_type": "stream",
     "text": [
      "Dataset shape after removing 'children': (1328, 6)\n"
     ]
    }
   ],
   "source": [
    "# Remove the 'children' column from the dataset\n",
    "insurance_dataset = insurance_dataset.drop(columns=['children'])\n",
    "\n",
    "# Check the shape of the dataset to confirm that the column has been removed\n",
    "print(f\"Dataset shape after removing 'children': {insurance_dataset.shape}\")\n"
   ]
  },
  {
   "cell_type": "markdown",
   "metadata": {},
   "source": [
    "##### After removed children attributes"
   ]
  },
  {
   "cell_type": "code",
   "execution_count": 537,
   "metadata": {},
   "outputs": [
    {
     "data": {
      "text/html": [
       "<div>\n",
       "<style scoped>\n",
       "    .dataframe tbody tr th:only-of-type {\n",
       "        vertical-align: middle;\n",
       "    }\n",
       "\n",
       "    .dataframe tbody tr th {\n",
       "        vertical-align: top;\n",
       "    }\n",
       "\n",
       "    .dataframe thead th {\n",
       "        text-align: right;\n",
       "    }\n",
       "</style>\n",
       "<table border=\"1\" class=\"dataframe\">\n",
       "  <thead>\n",
       "    <tr style=\"text-align: right;\">\n",
       "      <th></th>\n",
       "      <th>age</th>\n",
       "      <th>sex</th>\n",
       "      <th>bmi</th>\n",
       "      <th>smoker</th>\n",
       "      <th>region</th>\n",
       "      <th>charges</th>\n",
       "    </tr>\n",
       "  </thead>\n",
       "  <tbody>\n",
       "    <tr>\n",
       "      <th>0</th>\n",
       "      <td>19</td>\n",
       "      <td>female</td>\n",
       "      <td>27.900</td>\n",
       "      <td>yes</td>\n",
       "      <td>southwest</td>\n",
       "      <td>16884.92400</td>\n",
       "    </tr>\n",
       "    <tr>\n",
       "      <th>1</th>\n",
       "      <td>18</td>\n",
       "      <td>male</td>\n",
       "      <td>33.770</td>\n",
       "      <td>no</td>\n",
       "      <td>southeast</td>\n",
       "      <td>1725.55230</td>\n",
       "    </tr>\n",
       "    <tr>\n",
       "      <th>2</th>\n",
       "      <td>28</td>\n",
       "      <td>male</td>\n",
       "      <td>33.000</td>\n",
       "      <td>no</td>\n",
       "      <td>southeast</td>\n",
       "      <td>4449.46200</td>\n",
       "    </tr>\n",
       "    <tr>\n",
       "      <th>3</th>\n",
       "      <td>33</td>\n",
       "      <td>male</td>\n",
       "      <td>22.705</td>\n",
       "      <td>no</td>\n",
       "      <td>northwest</td>\n",
       "      <td>21984.47061</td>\n",
       "    </tr>\n",
       "    <tr>\n",
       "      <th>4</th>\n",
       "      <td>32</td>\n",
       "      <td>male</td>\n",
       "      <td>28.880</td>\n",
       "      <td>no</td>\n",
       "      <td>northwest</td>\n",
       "      <td>3866.85520</td>\n",
       "    </tr>\n",
       "  </tbody>\n",
       "</table>\n",
       "</div>"
      ],
      "text/plain": [
       "   age     sex     bmi smoker     region      charges\n",
       "0   19  female  27.900    yes  southwest  16884.92400\n",
       "1   18    male  33.770     no  southeast   1725.55230\n",
       "2   28    male  33.000     no  southeast   4449.46200\n",
       "3   33    male  22.705     no  northwest  21984.47061\n",
       "4   32    male  28.880     no  northwest   3866.85520"
      ]
     },
     "execution_count": 537,
     "metadata": {},
     "output_type": "execute_result"
    }
   ],
   "source": [
    "# First 5 rows of the dataframe\n",
    "insurance_dataset.head()"
   ]
  },
  {
   "cell_type": "markdown",
   "metadata": {},
   "source": [
    "#### For Categorical Attributes ( Chi Sqaure Matrix )"
   ]
  },
  {
   "cell_type": "code",
   "execution_count": 538,
   "metadata": {},
   "outputs": [
    {
     "data": {
      "image/png": "[encoded data removed]",
      "text/plain": [
       "<Figure size 600x600 with 2 Axes>"
      ]
     },
     "metadata": {},
     "output_type": "display_data"
    }
   ],
   "source": [
    "from scipy.stats import chi2_contingency\n",
    "\n",
    "# Extract only the categorical columns\n",
    "categorical_columns = insurance_dataset.select_dtypes(include=['object']).columns\n",
    "\n",
    "# Initialize an empty DataFrame to store the results\n",
    "chi_square_matrix = pd.DataFrame(index=categorical_columns, columns=categorical_columns)\n",
    "\n",
    "# Loop through each pair of categorical columns\n",
    "for col1 in categorical_columns:\n",
    "    for col2 in categorical_columns:\n",
    "        if col1 == col2:\n",
    "            chi_square_matrix.loc[col1, col2] = 1.0  # Perfect relationship with itself\n",
    "        else:\n",
    "            # Create a contingency table\n",
    "            contingency_table = pd.crosstab(insurance_dataset[col1], insurance_dataset[col2])\n",
    "            \n",
    "            # Perform Chi-Square test\n",
    "            chi2, p, _, _ = chi2_contingency(contingency_table)\n",
    "            \n",
    "            # Store the p-value (or chi2 if preferred) in the matrix\n",
    "            chi_square_matrix.loc[col1, col2] = p\n",
    "\n",
    "# Convert to numeric type for heatmap visualization\n",
    "chi_square_matrix = chi_square_matrix.astype(float)\n",
    "\n",
    "# Plot the heatmap\n",
    "plt.figure(figsize=(6,6))\n",
    "sns.heatmap(chi_square_matrix, annot=True, cmap='Greens', fmt=\".2f\")\n",
    "plt.title('Chi-Square Test Matrix')\n",
    "plt.show()"
   ]
  },
  {
   "cell_type": "markdown",
   "metadata": {},
   "source": [
    "for scipy chi square matrix p value less than significat level (0.05) is considered as high correlation among the attributes. so in this matrix we can see **gender and smoker attributes** has hight correlation among them. So we can remove any one of attribute between them. I choose **smoker attributes**. because smoker attributes has a **imbalanced dataset**"
   ]
  },
  {
   "cell_type": "markdown",
   "metadata": {},
   "source": [
    "##### Remove smoker attributes"
   ]
  },
  {
   "cell_type": "code",
   "execution_count": 539,
   "metadata": {},
   "outputs": [
    {
     "name": "stdout",
     "output_type": "stream",
     "text": [
      "Dataset shape after removing 'smoker': (1328, 5)\n"
     ]
    }
   ],
   "source": [
    "# Remove the 'children' column from the dataset\n",
    "insurance_dataset = insurance_dataset.drop(columns=['smoker'])\n",
    "\n",
    "# Check the shape of the dataset to confirm that the column has been removed\n",
    "print(f\"Dataset shape after removing 'smoker': {insurance_dataset.shape}\")\n"
   ]
  },
  {
   "cell_type": "markdown",
   "metadata": {},
   "source": [
    "##### After removed smoker attributes"
   ]
  },
  {
   "cell_type": "code",
   "execution_count": 540,
   "metadata": {},
   "outputs": [
    {
     "data": {
      "text/html": [
       "<div>\n",
       "<style scoped>\n",
       "    .dataframe tbody tr th:only-of-type {\n",
       "        vertical-align: middle;\n",
       "    }\n",
       "\n",
       "    .dataframe tbody tr th {\n",
       "        vertical-align: top;\n",
       "    }\n",
       "\n",
       "    .dataframe thead th {\n",
       "        text-align: right;\n",
       "    }\n",
       "</style>\n",
       "<table border=\"1\" class=\"dataframe\">\n",
       "  <thead>\n",
       "    <tr style=\"text-align: right;\">\n",
       "      <th></th>\n",
       "      <th>age</th>\n",
       "      <th>sex</th>\n",
       "      <th>bmi</th>\n",
       "      <th>region</th>\n",
       "      <th>charges</th>\n",
       "    </tr>\n",
       "  </thead>\n",
       "  <tbody>\n",
       "    <tr>\n",
       "      <th>0</th>\n",
       "      <td>19</td>\n",
       "      <td>female</td>\n",
       "      <td>27.900</td>\n",
       "      <td>southwest</td>\n",
       "      <td>16884.92400</td>\n",
       "    </tr>\n",
       "    <tr>\n",
       "      <th>1</th>\n",
       "      <td>18</td>\n",
       "      <td>male</td>\n",
       "      <td>33.770</td>\n",
       "      <td>southeast</td>\n",
       "      <td>1725.55230</td>\n",
       "    </tr>\n",
       "    <tr>\n",
       "      <th>2</th>\n",
       "      <td>28</td>\n",
       "      <td>male</td>\n",
       "      <td>33.000</td>\n",
       "      <td>southeast</td>\n",
       "      <td>4449.46200</td>\n",
       "    </tr>\n",
       "    <tr>\n",
       "      <th>3</th>\n",
       "      <td>33</td>\n",
       "      <td>male</td>\n",
       "      <td>22.705</td>\n",
       "      <td>northwest</td>\n",
       "      <td>21984.47061</td>\n",
       "    </tr>\n",
       "    <tr>\n",
       "      <th>4</th>\n",
       "      <td>32</td>\n",
       "      <td>male</td>\n",
       "      <td>28.880</td>\n",
       "      <td>northwest</td>\n",
       "      <td>3866.85520</td>\n",
       "    </tr>\n",
       "  </tbody>\n",
       "</table>\n",
       "</div>"
      ],
      "text/plain": [
       "   age     sex     bmi     region      charges\n",
       "0   19  female  27.900  southwest  16884.92400\n",
       "1   18    male  33.770  southeast   1725.55230\n",
       "2   28    male  33.000  southeast   4449.46200\n",
       "3   33    male  22.705  northwest  21984.47061\n",
       "4   32    male  28.880  northwest   3866.85520"
      ]
     },
     "execution_count": 540,
     "metadata": {},
     "output_type": "execute_result"
    }
   ],
   "source": [
    "# First 5 rows of the dataframe\n",
    "insurance_dataset.head()"
   ]
  },
  {
   "cell_type": "code",
   "execution_count": 541,
   "metadata": {
    "id": "7_FEanPSHvwN"
   },
   "outputs": [],
   "source": [
    "# Test the training dataset after processing the null values\n",
    "\n",
    "# Your code goes here"
   ]
  },
  {
   "cell_type": "code",
   "execution_count": 542,
   "metadata": {
    "id": "NCaj3L2IEcOs"
   },
   "outputs": [],
   "source": [
    "# Process the null values in the test set\n",
    "\n",
    "# Your code goes here"
   ]
  },
  {
   "cell_type": "code",
   "execution_count": 543,
   "metadata": {
    "id": "YTQu537-HvCp"
   },
   "outputs": [],
   "source": [
    "# Test the testing dataset after processing the null values\n",
    "\n",
    "# Your code goes here"
   ]
  },
  {
   "cell_type": "markdown",
   "metadata": {
    "id": "HukJaz86FSF5"
   },
   "source": [
    "### Handle the categorical features"
   ]
  },
  {
   "cell_type": "markdown",
   "metadata": {},
   "source": [
    "Data types before encoding"
   ]
  },
  {
   "cell_type": "code",
   "execution_count": 544,
   "metadata": {},
   "outputs": [
    {
     "name": "stdout",
     "output_type": "stream",
     "text": [
      "Insurance Dataset Info:\n",
      "<class 'pandas.core.frame.DataFrame'>\n",
      "Int64Index: 1328 entries, 0 to 1337\n",
      "Data columns (total 5 columns):\n",
      " #   Column   Non-Null Count  Dtype  \n",
      "---  ------   --------------  -----  \n",
      " 0   age      1328 non-null   int64  \n",
      " 1   sex      1328 non-null   object \n",
      " 2   bmi      1328 non-null   float64\n",
      " 3   region   1328 non-null   object \n",
      " 4   charges  1328 non-null   float64\n",
      "dtypes: float64(2), int64(1), object(2)\n",
      "memory usage: 62.2+ KB\n"
     ]
    }
   ],
   "source": [
    "# Concise summary using info()\n",
    "print(\"Insurance Dataset Info:\")\n",
    "insurance_dataset.info()"
   ]
  },
  {
   "cell_type": "markdown",
   "metadata": {},
   "source": [
    "Label Encode for sex attribute"
   ]
  },
  {
   "cell_type": "code",
   "execution_count": 545,
   "metadata": {},
   "outputs": [
    {
     "data": {
      "text/html": [
       "<div>\n",
       "<style scoped>\n",
       "    .dataframe tbody tr th:only-of-type {\n",
       "        vertical-align: middle;\n",
       "    }\n",
       "\n",
       "    .dataframe tbody tr th {\n",
       "        vertical-align: top;\n",
       "    }\n",
       "\n",
       "    .dataframe thead th {\n",
       "        text-align: right;\n",
       "    }\n",
       "</style>\n",
       "<table border=\"1\" class=\"dataframe\">\n",
       "  <thead>\n",
       "    <tr style=\"text-align: right;\">\n",
       "      <th></th>\n",
       "      <th>age</th>\n",
       "      <th>sex</th>\n",
       "      <th>bmi</th>\n",
       "      <th>region</th>\n",
       "      <th>charges</th>\n",
       "    </tr>\n",
       "  </thead>\n",
       "  <tbody>\n",
       "    <tr>\n",
       "      <th>0</th>\n",
       "      <td>19</td>\n",
       "      <td>1</td>\n",
       "      <td>27.900</td>\n",
       "      <td>southwest</td>\n",
       "      <td>16884.92400</td>\n",
       "    </tr>\n",
       "    <tr>\n",
       "      <th>1</th>\n",
       "      <td>18</td>\n",
       "      <td>0</td>\n",
       "      <td>33.770</td>\n",
       "      <td>southeast</td>\n",
       "      <td>1725.55230</td>\n",
       "    </tr>\n",
       "    <tr>\n",
       "      <th>2</th>\n",
       "      <td>28</td>\n",
       "      <td>0</td>\n",
       "      <td>33.000</td>\n",
       "      <td>southeast</td>\n",
       "      <td>4449.46200</td>\n",
       "    </tr>\n",
       "    <tr>\n",
       "      <th>3</th>\n",
       "      <td>33</td>\n",
       "      <td>0</td>\n",
       "      <td>22.705</td>\n",
       "      <td>northwest</td>\n",
       "      <td>21984.47061</td>\n",
       "    </tr>\n",
       "    <tr>\n",
       "      <th>4</th>\n",
       "      <td>32</td>\n",
       "      <td>0</td>\n",
       "      <td>28.880</td>\n",
       "      <td>northwest</td>\n",
       "      <td>3866.85520</td>\n",
       "    </tr>\n",
       "  </tbody>\n",
       "</table>\n",
       "</div>"
      ],
      "text/plain": [
       "   age  sex     bmi     region      charges\n",
       "0   19    1  27.900  southwest  16884.92400\n",
       "1   18    0  33.770  southeast   1725.55230\n",
       "2   28    0  33.000  southeast   4449.46200\n",
       "3   33    0  22.705  northwest  21984.47061\n",
       "4   32    0  28.880  northwest   3866.85520"
      ]
     },
     "metadata": {},
     "output_type": "display_data"
    }
   ],
   "source": [
    "# Encoding sex column\n",
    "insurance_dataset.replace({'sex':{'male':0,'female':1}},inplace=True)\n",
    "\n",
    "# Check the updated dataset\n",
    "display(insurance_dataset.head())"
   ]
  },
  {
   "cell_type": "markdown",
   "metadata": {},
   "source": [
    "One Hot Encode for region attribute"
   ]
  },
  {
   "cell_type": "code",
   "execution_count": 546,
   "metadata": {},
   "outputs": [
    {
     "data": {
      "text/html": [
       "<div>\n",
       "<style scoped>\n",
       "    .dataframe tbody tr th:only-of-type {\n",
       "        vertical-align: middle;\n",
       "    }\n",
       "\n",
       "    .dataframe tbody tr th {\n",
       "        vertical-align: top;\n",
       "    }\n",
       "\n",
       "    .dataframe thead th {\n",
       "        text-align: right;\n",
       "    }\n",
       "</style>\n",
       "<table border=\"1\" class=\"dataframe\">\n",
       "  <thead>\n",
       "    <tr style=\"text-align: right;\">\n",
       "      <th></th>\n",
       "      <th>age</th>\n",
       "      <th>sex</th>\n",
       "      <th>bmi</th>\n",
       "      <th>charges</th>\n",
       "      <th>region_northeast</th>\n",
       "      <th>region_northwest</th>\n",
       "      <th>region_southeast</th>\n",
       "      <th>region_southwest</th>\n",
       "    </tr>\n",
       "  </thead>\n",
       "  <tbody>\n",
       "    <tr>\n",
       "      <th>0</th>\n",
       "      <td>19</td>\n",
       "      <td>1</td>\n",
       "      <td>27.900</td>\n",
       "      <td>16884.92400</td>\n",
       "      <td>0</td>\n",
       "      <td>0</td>\n",
       "      <td>0</td>\n",
       "      <td>1</td>\n",
       "    </tr>\n",
       "    <tr>\n",
       "      <th>1</th>\n",
       "      <td>18</td>\n",
       "      <td>0</td>\n",
       "      <td>33.770</td>\n",
       "      <td>1725.55230</td>\n",
       "      <td>0</td>\n",
       "      <td>0</td>\n",
       "      <td>1</td>\n",
       "      <td>0</td>\n",
       "    </tr>\n",
       "    <tr>\n",
       "      <th>2</th>\n",
       "      <td>28</td>\n",
       "      <td>0</td>\n",
       "      <td>33.000</td>\n",
       "      <td>4449.46200</td>\n",
       "      <td>0</td>\n",
       "      <td>0</td>\n",
       "      <td>1</td>\n",
       "      <td>0</td>\n",
       "    </tr>\n",
       "    <tr>\n",
       "      <th>3</th>\n",
       "      <td>33</td>\n",
       "      <td>0</td>\n",
       "      <td>22.705</td>\n",
       "      <td>21984.47061</td>\n",
       "      <td>0</td>\n",
       "      <td>1</td>\n",
       "      <td>0</td>\n",
       "      <td>0</td>\n",
       "    </tr>\n",
       "    <tr>\n",
       "      <th>4</th>\n",
       "      <td>32</td>\n",
       "      <td>0</td>\n",
       "      <td>28.880</td>\n",
       "      <td>3866.85520</td>\n",
       "      <td>0</td>\n",
       "      <td>1</td>\n",
       "      <td>0</td>\n",
       "      <td>0</td>\n",
       "    </tr>\n",
       "  </tbody>\n",
       "</table>\n",
       "</div>"
      ],
      "text/plain": [
       "   age  sex     bmi      charges  region_northeast  region_northwest  \\\n",
       "0   19    1  27.900  16884.92400                 0                 0   \n",
       "1   18    0  33.770   1725.55230                 0                 0   \n",
       "2   28    0  33.000   4449.46200                 0                 0   \n",
       "3   33    0  22.705  21984.47061                 0                 1   \n",
       "4   32    0  28.880   3866.85520                 0                 1   \n",
       "\n",
       "   region_southeast  region_southwest  \n",
       "0                 0                 1  \n",
       "1                 1                 0  \n",
       "2                 1                 0  \n",
       "3                 0                 0  \n",
       "4                 0                 0  "
      ]
     },
     "metadata": {},
     "output_type": "display_data"
    }
   ],
   "source": [
    "# Perform one-hot encoding for the 'region' column\n",
    "region_encoded = pd.get_dummies(insurance_dataset['region'], prefix='region')\n",
    "\n",
    "# Drop region column\n",
    "insurance_dataset.drop(columns=['region'], inplace=True)\n",
    "\n",
    "# Optionally, you can join the encoded columns back to the original dataset\n",
    "insurance_dataset = insurance_dataset.join(region_encoded)\n",
    "\n",
    "# Check the updated dataset\n",
    "display(insurance_dataset.head())\n"
   ]
  },
  {
   "cell_type": "markdown",
   "metadata": {},
   "source": [
    "Charges to last column"
   ]
  },
  {
   "cell_type": "code",
   "execution_count": 547,
   "metadata": {},
   "outputs": [
    {
     "data": {
      "text/html": [
       "<div>\n",
       "<style scoped>\n",
       "    .dataframe tbody tr th:only-of-type {\n",
       "        vertical-align: middle;\n",
       "    }\n",
       "\n",
       "    .dataframe tbody tr th {\n",
       "        vertical-align: top;\n",
       "    }\n",
       "\n",
       "    .dataframe thead th {\n",
       "        text-align: right;\n",
       "    }\n",
       "</style>\n",
       "<table border=\"1\" class=\"dataframe\">\n",
       "  <thead>\n",
       "    <tr style=\"text-align: right;\">\n",
       "      <th></th>\n",
       "      <th>age</th>\n",
       "      <th>sex</th>\n",
       "      <th>bmi</th>\n",
       "      <th>region_northeast</th>\n",
       "      <th>region_northwest</th>\n",
       "      <th>region_southeast</th>\n",
       "      <th>region_southwest</th>\n",
       "      <th>charges</th>\n",
       "    </tr>\n",
       "  </thead>\n",
       "  <tbody>\n",
       "    <tr>\n",
       "      <th>0</th>\n",
       "      <td>19</td>\n",
       "      <td>1</td>\n",
       "      <td>27.900</td>\n",
       "      <td>0</td>\n",
       "      <td>0</td>\n",
       "      <td>0</td>\n",
       "      <td>1</td>\n",
       "      <td>16884.92400</td>\n",
       "    </tr>\n",
       "    <tr>\n",
       "      <th>1</th>\n",
       "      <td>18</td>\n",
       "      <td>0</td>\n",
       "      <td>33.770</td>\n",
       "      <td>0</td>\n",
       "      <td>0</td>\n",
       "      <td>1</td>\n",
       "      <td>0</td>\n",
       "      <td>1725.55230</td>\n",
       "    </tr>\n",
       "    <tr>\n",
       "      <th>2</th>\n",
       "      <td>28</td>\n",
       "      <td>0</td>\n",
       "      <td>33.000</td>\n",
       "      <td>0</td>\n",
       "      <td>0</td>\n",
       "      <td>1</td>\n",
       "      <td>0</td>\n",
       "      <td>4449.46200</td>\n",
       "    </tr>\n",
       "    <tr>\n",
       "      <th>3</th>\n",
       "      <td>33</td>\n",
       "      <td>0</td>\n",
       "      <td>22.705</td>\n",
       "      <td>0</td>\n",
       "      <td>1</td>\n",
       "      <td>0</td>\n",
       "      <td>0</td>\n",
       "      <td>21984.47061</td>\n",
       "    </tr>\n",
       "    <tr>\n",
       "      <th>4</th>\n",
       "      <td>32</td>\n",
       "      <td>0</td>\n",
       "      <td>28.880</td>\n",
       "      <td>0</td>\n",
       "      <td>1</td>\n",
       "      <td>0</td>\n",
       "      <td>0</td>\n",
       "      <td>3866.85520</td>\n",
       "    </tr>\n",
       "  </tbody>\n",
       "</table>\n",
       "</div>"
      ],
      "text/plain": [
       "   age  sex     bmi  region_northeast  region_northwest  region_southeast  \\\n",
       "0   19    1  27.900                 0                 0                 0   \n",
       "1   18    0  33.770                 0                 0                 1   \n",
       "2   28    0  33.000                 0                 0                 1   \n",
       "3   33    0  22.705                 0                 1                 0   \n",
       "4   32    0  28.880                 0                 1                 0   \n",
       "\n",
       "   region_southwest      charges  \n",
       "0                 1  16884.92400  \n",
       "1                 0   1725.55230  \n",
       "2                 0   4449.46200  \n",
       "3                 0  21984.47061  \n",
       "4                 0   3866.85520  "
      ]
     },
     "metadata": {},
     "output_type": "display_data"
    }
   ],
   "source": [
    "# Get the list of columns\n",
    "columns = insurance_dataset.columns.tolist()\n",
    "\n",
    "# Move 'charges' to the last position\n",
    "columns.append(columns.pop(columns.index('charges')))\n",
    "\n",
    "# Reorder the DataFrame columns\n",
    "insurance_dataset = insurance_dataset[columns]\n",
    "\n",
    "# Verify the new column order\n",
    "display(insurance_dataset.head())"
   ]
  },
  {
   "cell_type": "markdown",
   "metadata": {},
   "source": [
    "Data types after encoding"
   ]
  },
  {
   "cell_type": "code",
   "execution_count": 573,
   "metadata": {},
   "outputs": [
    {
     "name": "stdout",
     "output_type": "stream",
     "text": [
      "Insurance Dataset Info:\n",
      "<class 'pandas.core.frame.DataFrame'>\n",
      "Int64Index: 1328 entries, 0 to 1337\n",
      "Data columns (total 8 columns):\n",
      " #   Column            Non-Null Count  Dtype  \n",
      "---  ------            --------------  -----  \n",
      " 0   age               1328 non-null   int64  \n",
      " 1   sex               1328 non-null   int64  \n",
      " 2   bmi               1328 non-null   float64\n",
      " 3   region_northeast  1328 non-null   uint8  \n",
      " 4   region_northwest  1328 non-null   uint8  \n",
      " 5   region_southeast  1328 non-null   uint8  \n",
      " 6   region_southwest  1328 non-null   uint8  \n",
      " 7   charges           1328 non-null   float64\n",
      "dtypes: float64(2), int64(2), uint8(4)\n",
      "memory usage: 89.4 KB\n"
     ]
    }
   ],
   "source": [
    "# Concise summary \n",
    "print(\"Insurance Dataset Info:\")\n",
    "insurance_dataset.info()"
   ]
  },
  {
   "cell_type": "markdown",
   "metadata": {
    "id": "FUqzfSjOFZUs"
   },
   "source": [
    "**Q:** Select an appropriate method to encode the categorical features. Explain your selection and incorporated methodology to be followed in categorical feature handling (i.e., if you are going to use some specific parameters or techniques reason about them accordingly).\n",
    "> **A:**"
   ]
  },
  {
   "cell_type": "code",
   "execution_count": 548,
   "metadata": {
    "id": "vo4h_bs4GVlI"
   },
   "outputs": [],
   "source": [
    "# Hint: Use Scikit-Learn library for the feature encoding\n",
    "\n",
    "# Your code goes here\n",
    "\n",
    "# List the categorical features\n",
    "\n",
    "# Your code goes here\n",
    "\n",
    "# Define the encoder\n",
    "# Hint: https://scikit-learn.org/stable/modules/generated/sklearn.compose.make_column_transformer.html\n",
    "\n",
    "# Your code goes here\n",
    "\n",
    "# Encode the training features\n",
    "\n",
    "# Your code goes here"
   ]
  },
  {
   "cell_type": "code",
   "execution_count": 549,
   "metadata": {
    "id": "arZVakNVQgLf"
   },
   "outputs": [],
   "source": [
    "# Check the datatypes of the the Pandas dataframe after the transformation\n",
    "\n",
    "# Your code goes here"
   ]
  },
  {
   "cell_type": "code",
   "execution_count": 550,
   "metadata": {
    "id": "nkLFoUEtKRJf"
   },
   "outputs": [],
   "source": [
    "# Encode the testing features\n",
    "\n",
    "# Your code goes here"
   ]
  },
  {
   "cell_type": "code",
   "execution_count": 551,
   "metadata": {
    "id": "RA8qpIkhIUN0"
   },
   "outputs": [],
   "source": [
    "# Encode the target variable in train and test sets\n",
    "\n",
    "# Your code goes here"
   ]
  },
  {
   "cell_type": "code",
   "execution_count": 552,
   "metadata": {
    "id": "wN3Rs3e6NEYp"
   },
   "outputs": [],
   "source": [
    "# Print the encoded labels for the training set\n",
    "\n",
    "# Your code goes here"
   ]
  },
  {
   "cell_type": "markdown",
   "metadata": {
    "id": "gnMYSCn4b6bX"
   },
   "source": [
    "### Scale the Numerical Features"
   ]
  },
  {
   "cell_type": "code",
   "execution_count": 553,
   "metadata": {
    "id": "VbFO9wBub9cD"
   },
   "outputs": [],
   "source": [
    "# Standard Scale the numerical features"
   ]
  },
  {
   "cell_type": "code",
   "execution_count": 554,
   "metadata": {
    "id": "QCfRzjK_cAYB"
   },
   "outputs": [],
   "source": [
    "# Display the head of the scaled training set"
   ]
  },
  {
   "cell_type": "code",
   "execution_count": 555,
   "metadata": {
    "id": "mqdtv_uOcIad"
   },
   "outputs": [],
   "source": [
    "# Display the head of the scaled testing set"
   ]
  },
  {
   "cell_type": "markdown",
   "metadata": {
    "id": "qgkc4gzATv6M"
   },
   "source": [
    "From the EDA you should have observed that dataset is imbalanced. Therefore, in the following section we are going to handle the imbalance nature of the dataset using the technique calle **SMOTE (Synthetic Minority Over-sampling Technique)**. SMOTE has been included with the imbalanced-learn library.\n",
    "\n",
    "Link to Imbalanced-Learn Library: https://imbalanced-learn.org/stable/user_guide.html#user-guide"
   ]
  },
  {
   "cell_type": "markdown",
   "metadata": {
    "id": "1NKfyIRIUTKO"
   },
   "source": [
    "### Handling the Imbalance Nature of the Dataset"
   ]
  },
  {
   "cell_type": "markdown",
   "metadata": {
    "id": "2bDIGCi_Yoyw"
   },
   "source": [
    "**Q:** Explain the SMOTE algorithem. What is the basic advantage of using SMOTE over other oversampling techniques.<br>\n",
    "> **A1:**<br>\n",
    "> **A2 (Advantage):**"
   ]
  },
  {
   "cell_type": "code",
   "execution_count": 556,
   "metadata": {
    "id": "j4qEck5RNJSb"
   },
   "outputs": [],
   "source": [
    "# Oversample the training set\n",
    "# Makesure to save the oversampled data to seperate variables since we will need the original data points at a later point of the\n",
    "# model development\n",
    "# Hint: https://imbalanced-learn.org/stable/references/generated/imblearn.over_sampling.SMOTE.html\n",
    "\n",
    "# Your code goes here"
   ]
  },
  {
   "cell_type": "code",
   "execution_count": 557,
   "metadata": {
    "id": "s7TphShPc0OH"
   },
   "outputs": [],
   "source": [
    "# plot the count plots side by side before and after resampling\n",
    "\n",
    "# Your code goes here"
   ]
  },
  {
   "cell_type": "markdown",
   "metadata": {
    "id": "BotB3AITe7WA"
   },
   "source": [
    "As it can be seen from the above plot the the SMOTE has balanced the traning dataset by oversampling the minority class. <br>\n",
    "**Q:** Are we going to oversample the testing set as well? Explain your point of view.\n",
    "> **A:**"
   ]
  },
  {
   "cell_type": "markdown",
   "metadata": {
    "id": "XiCW5f4-hnlw"
   },
   "source": [
    "The above generated oversampled dataset is only for the visualization of the functionality of the SMOTE algorithm and the machine learning model development will be done by means of imbalanced-learn pipeline (Ref: https://imbalanced-learn.org/stable/references/generated/imblearn.pipeline.Pipeline.html) along with Stratified K-Folds cross-validation (Ref: https://scikit-learn.org/stable/modules/generated/sklearn.model_selection.StratifiedKFold.html) and GridSearchCV (Ref: https://scikit-learn.org/stable/modules/generated/sklearn.model_selection.GridSearchCV.html) to avoid any data leackages during the training process. Proceed with the given instructions in the following section to implement a Support Vector Classifer in proper way."
   ]
  },
  {
   "cell_type": "markdown",
   "metadata": {
    "id": "kMkiUG-Ep9cx"
   },
   "source": [
    "## Machine Learning Model Development: Placement Prediction with Support Vector Classifier"
   ]
  },
  {
   "cell_type": "code",
   "execution_count": 558,
   "metadata": {
    "id": "EjiiojLheoZR"
   },
   "outputs": [],
   "source": [
    "# Make sure you have loaded the necessary libaries here or in a point before\n",
    "\n",
    "# Your code goes here"
   ]
  },
  {
   "cell_type": "code",
   "execution_count": 559,
   "metadata": {
    "id": "FbhQ2B0MrGWV"
   },
   "outputs": [],
   "source": [
    "# Define imbpipeline with following steps,\n",
    "## SMOTE\n",
    "## classifier (SVC in this case)\n",
    "\n",
    "# Your code goes here"
   ]
  },
  {
   "cell_type": "code",
   "execution_count": 560,
   "metadata": {
    "id": "WBdfw2LJuQ3C"
   },
   "outputs": [],
   "source": [
    "# Define stratified k-fold cross validation with five folds\n",
    "\n",
    "# Your code goes here"
   ]
  },
  {
   "cell_type": "markdown",
   "metadata": {
    "id": "4hNcTpWn92i0"
   },
   "source": [
    "**Q:** What is the importance of Stratified K-Folds cross-validation?\n",
    "> **A:**"
   ]
  },
  {
   "cell_type": "code",
   "execution_count": 561,
   "metadata": {
    "id": "4C1DbBZnu3PR"
   },
   "outputs": [],
   "source": [
    "# Define parameter grid with two to three hyper parameters to perform grid search\n",
    "\n",
    "# Your code goes here"
   ]
  },
  {
   "cell_type": "code",
   "execution_count": 562,
   "metadata": {
    "id": "H4QRCAxSwBsI"
   },
   "outputs": [],
   "source": [
    "# Define grid seach instance with GridSearchCV from Scikit-Learn\n",
    "\n",
    "# Your code goes here"
   ]
  },
  {
   "cell_type": "code",
   "execution_count": 563,
   "metadata": {
    "id": "umfSsvMDxB1-"
   },
   "outputs": [],
   "source": [
    "# fit the grid search instance to the training data\n",
    "# Do not use the upsampled train dataset before.\n",
    "# Use the imbalanced dataset\n",
    "\n",
    "# Your code goes here"
   ]
  },
  {
   "cell_type": "markdown",
   "metadata": {
    "id": "sBXFWfmDv4Ag"
   },
   "source": [
    "Hint: Refer to the GridSearchCV documentation in Scikit-Learn site to answer the following questions."
   ]
  },
  {
   "cell_type": "code",
   "execution_count": 564,
   "metadata": {
    "id": "kHIexOZOx-Uj"
   },
   "outputs": [],
   "source": [
    "# Print the mean cross validated score of the best estimator (Accuracy)\n",
    "\n",
    "# Your code goes here"
   ]
  },
  {
   "cell_type": "code",
   "execution_count": 565,
   "metadata": {
    "id": "6cZ4m_GByemc"
   },
   "outputs": [],
   "source": [
    "# Print the best hyper parameters detected from the grid search\n",
    "\n",
    "# Your code goes here"
   ]
  },
  {
   "cell_type": "code",
   "execution_count": 566,
   "metadata": {
    "id": "-rtjVzFV1GMS"
   },
   "outputs": [],
   "source": [
    "# Obtain the best estimator selected from the grid search\n",
    "\n",
    "# Your code goes here"
   ]
  },
  {
   "cell_type": "markdown",
   "metadata": {
    "id": "wzAn8c3o1Xz6"
   },
   "source": [
    "### Model Evaluation"
   ]
  },
  {
   "cell_type": "code",
   "execution_count": 567,
   "metadata": {
    "id": "EVg_1nRP1mlP"
   },
   "outputs": [],
   "source": [
    "# Fit the best estimator to the whole training dataset\n",
    "\n",
    "# Your code goes here"
   ]
  },
  {
   "cell_type": "code",
   "execution_count": 568,
   "metadata": {
    "id": "aUs7l0Hs1xkg"
   },
   "outputs": [],
   "source": [
    "# Calculate the accuracy considering the complete traing set\n",
    "\n",
    "# Your code goes here"
   ]
  },
  {
   "cell_type": "code",
   "execution_count": 569,
   "metadata": {
    "id": "OPj2z3mL2By-"
   },
   "outputs": [],
   "source": [
    "# Calculate the accuracy for the test set\n",
    "\n",
    "# Your code goes here"
   ]
  },
  {
   "cell_type": "markdown",
   "metadata": {
    "id": "o2sZknbb2q2F"
   },
   "source": [
    "**Q:** Comment on the accuracies obtained above. Do you think this model is overfitting or not? <br>\n",
    "> **A:**"
   ]
  },
  {
   "cell_type": "code",
   "execution_count": 570,
   "metadata": {
    "id": "ioIJf5xp2n4M"
   },
   "outputs": [],
   "source": [
    "# Generate the confusion matrix for the train and test sets and plot them in the same figure side by side\n",
    "\n",
    "# Your code goes here"
   ]
  },
  {
   "cell_type": "markdown",
   "metadata": {
    "id": "0I8AUhBU7i4w"
   },
   "source": [
    "**Q:** Comment about the obtained confusion matrices. <br>\n",
    "> **A:**"
   ]
  },
  {
   "cell_type": "code",
   "execution_count": 571,
   "metadata": {
    "id": "t2pBf-uZ7CO3"
   },
   "outputs": [],
   "source": [
    "# Generate the classification report from Scikit-Learn for the test set\n",
    "\n",
    "# Your code goes here"
   ]
  },
  {
   "cell_type": "markdown",
   "metadata": {
    "id": "ypRTwBCJ9cEU"
   },
   "source": [
    "**Q:** Comment on the results obtained with classfication report. Explain the different parameters you can observe in the report.\n",
    "> **A:**"
   ]
  },
  {
   "cell_type": "code",
   "execution_count": 572,
   "metadata": {
    "id": "J2Bzyw399Ytg"
   },
   "outputs": [],
   "source": [
    "# Generate the ROC (Receiver Operating Curve) for the estimator considering the test data\n",
    "# Also print the Area Under Curve (AUC) value asscoiated with ROC curve\n",
    "\n",
    "# Your code goes here"
   ]
  },
  {
   "cell_type": "markdown",
   "metadata": {
    "id": "i-1PtXAk_jFq"
   },
   "source": [
    "**Q:** What is ROC curve and AUC value? Furthermore comment on the obtained ROC curve and AUC value. What can you tell on the estmator based on the obtained ROC curve and AUC value?\n",
    "> **A:**"
   ]
  }
 ],
 "metadata": {
  "colab": {
   "provenance": []
  },
  "kernelspec": {
   "display_name": "base",
   "language": "python",
   "name": "python3"
  },
  "language_info": {
   "codemirror_mode": {
    "name": "ipython",
    "version": 3
   },
   "file_extension": ".py",
   "mimetype": "text/x-python",
   "name": "python",
   "nbconvert_exporter": "python",
   "pygments_lexer": "ipython3",
   "version": "3.10.9"
  }
 },
 "nbformat": 4,
 "nbformat_minor": 0
}
